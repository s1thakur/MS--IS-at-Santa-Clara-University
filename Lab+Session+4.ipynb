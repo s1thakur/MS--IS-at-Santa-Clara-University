{
 "cells": [
  {
   "cell_type": "code",
   "execution_count": 2,
   "metadata": {},
   "outputs": [
    {
     "name": "stdout",
     "output_type": "stream",
     "text": [
      "Collecting request\n",
      "  Downloading request-0.0.13.tar.gz\n",
      "Collecting get (from request)\n",
      "  Downloading get-0.0.21.tar.gz\n",
      "Collecting post (from request)\n",
      "  Downloading post-0.0.13.tar.gz\n",
      "Collecting setupfiles (from request)\n",
      "  Downloading setupfiles-0.0.50.tar.gz\n",
      "Collecting query_string (from get->request)\n",
      "  Downloading query_string-0.0.12.tar.gz\n",
      "Collecting public (from query_string->get->request)\n",
      "  Downloading public-0.0.38.tar.gz\n",
      "Building wheels for collected packages: request, get, post, setupfiles, query-string, public\n",
      "  Running setup.py bdist_wheel for request: started\n",
      "  Running setup.py bdist_wheel for request: finished with status 'done'\n",
      "  Stored in directory: C:\\Users\\Sanjana Thakur\\AppData\\Local\\pip\\Cache\\wheels\\86\\cd\\e7\\a3a1af6f4a9617c2bcb860895f2b2c8dff0fe5109e1a328342\n",
      "  Running setup.py bdist_wheel for get: started\n",
      "  Running setup.py bdist_wheel for get: finished with status 'done'\n",
      "  Stored in directory: C:\\Users\\Sanjana Thakur\\AppData\\Local\\pip\\Cache\\wheels\\72\\ba\\86\\68e29772aa07a7708630981f352522f93cda20b1b811cdad89\n",
      "  Running setup.py bdist_wheel for post: started\n",
      "  Running setup.py bdist_wheel for post: finished with status 'done'\n",
      "  Stored in directory: C:\\Users\\Sanjana Thakur\\AppData\\Local\\pip\\Cache\\wheels\\f4\\24\\59\\8b92e4e0b54868e68053734305bbc3607dd832d1832a381b2a\n",
      "  Running setup.py bdist_wheel for setupfiles: started\n",
      "  Running setup.py bdist_wheel for setupfiles: finished with status 'done'\n",
      "  Stored in directory: C:\\Users\\Sanjana Thakur\\AppData\\Local\\pip\\Cache\\wheels\\d1\\bd\\60\\8bcef2e4161fc5089a75ec18d5a2cfcbd2e65ced126c8328a0\n",
      "  Running setup.py bdist_wheel for query-string: started\n",
      "  Running setup.py bdist_wheel for query-string: finished with status 'done'\n",
      "  Stored in directory: C:\\Users\\Sanjana Thakur\\AppData\\Local\\pip\\Cache\\wheels\\7b\\5b\\20\\8182db656937c7f68e662e3f8b8625c03f6610e02587e1b1bf\n",
      "  Running setup.py bdist_wheel for public: started\n",
      "  Running setup.py bdist_wheel for public: finished with status 'done'\n",
      "  Stored in directory: C:\\Users\\Sanjana Thakur\\AppData\\Local\\pip\\Cache\\wheels\\cf\\91\\90\\e697fbcc2c40f4f812ad575f50b81f274651297c5972b747a3\n",
      "Successfully built request get post setupfiles query-string public\n",
      "Installing collected packages: setupfiles, public, query-string, get, post, request\n",
      "Successfully installed get-0.0.0 post-0.0.0 public-0.0.0 query-string-0.0.0 request-0.0.0 setupfiles-0.0.50\n"
     ]
    }
   ],
   "source": [
    "!pip install request"
   ]
  },
  {
   "cell_type": "code",
   "execution_count": 3,
   "metadata": {},
   "outputs": [
    {
     "name": "stdout",
     "output_type": "stream",
     "text": [
      "<!DOCTYPE html>\n",
      "<html>\n",
      "<head>\n",
      "<title>Compare universities | Yocket</title>\n",
      "<meta name=\"description\" content=\"Compare universities\" />\n",
      "<meta http-equiv=\"Content-Type\" content=\"text/html; charset=utf-8\" /><meta name=\"viewport\" content=\"width=device-width, initial-scale=1.0\" />\n",
      "<script src=\"/cdn-cgi/apps/head/Mu6wVX4OcZ8KDPC4TGyjOacEUjg.js\"></script><link href=\"/img/yocket.ico\" type=\"image/x-icon\" rel=\"icon\" /><link href=\"/img/yocket.ico\" type=\"image/x-icon\" rel=\"shortcut icon\" />\n",
      "<link rel=\"dns-pr\n"
     ]
    }
   ],
   "source": [
    "import requests\n",
    "r = requests.get('https://yocket.in/universities/compare?universities=2587,2596,1103,736,2600')\n",
    "print(r.text[0:500])"
   ]
  },
  {
   "cell_type": "code",
   "execution_count": 5,
   "metadata": {},
   "outputs": [
    {
     "name": "stdout",
     "output_type": "stream",
     "text": [
      "Requirement already satisfied: beautifulsoup4 in c:\\anaconda3\\lib\\site-packages\n"
     ]
    }
   ],
   "source": [
    "!pip install beautifulsoup4\n",
    "from bs4 import BeautifulSoup\n",
    "soup = BeautifulSoup(r.text, 'html.parser')"
   ]
  },
  {
   "cell_type": "code",
   "execution_count": 25,
   "metadata": {},
   "outputs": [
    {
     "data": {
      "text/plain": [
       "[<div class=\"col-sm-4\">\n",
       " <p>\n",
       " <a href=\"/universities/reviews/2587/new-york-university/engineering\">New York University</a> <br/>\n",
       " <small>New York, United States</small>\n",
       " </p>\n",
       " </div>, <div class=\"col-sm-4\">\n",
       " <p>\n",
       " <a href=\"/universities/reviews/2596/santa-clara-university/engineering\">Santa Clara University</a> <br/>\n",
       " <small>California, United States</small>\n",
       " </p>\n",
       " </div>, <div class=\"col-sm-4\">\n",
       " <p>\n",
       " <a href=\"/universities/reviews/1103/george-washington-university/engineering\">George Washington University</a> <br/>\n",
       " <small>District of Columbia, United States</small>\n",
       " </p>\n",
       " </div>]"
      ]
     },
     "execution_count": 25,
     "metadata": {},
     "output_type": "execute_result"
    }
   ],
   "source": [
    "results = soup.find_all('div', attrs={'class':'col-sm-4'})\n",
    "len(results)\n",
    "results[0:3]"
   ]
  },
  {
   "cell_type": "code",
   "execution_count": 26,
   "metadata": {},
   "outputs": [
    {
     "data": {
      "text/plain": [
       "<div class=\"col-sm-4\">\n",
       "<p>\n",
       "<a href=\"/universities/reviews/2596/santa-clara-university/engineering\">Santa Clara University</a> <br/>\n",
       "<small>California, United States</small>\n",
       "</p>\n",
       "</div>"
      ]
     },
     "execution_count": 26,
     "metadata": {},
     "output_type": "execute_result"
    }
   ],
   "source": [
    "first_result = results[1]\n",
    "first_result"
   ]
  },
  {
   "cell_type": "code",
   "execution_count": 30,
   "metadata": {},
   "outputs": [
    {
     "data": {
      "text/plain": [
       "'Santa Clara University'"
      ]
     },
     "execution_count": 30,
     "metadata": {},
     "output_type": "execute_result"
    }
   ],
   "source": [
    "first_result.find('a').text"
   ]
  },
  {
   "cell_type": "code",
   "execution_count": 21,
   "metadata": {},
   "outputs": [
    {
     "data": {
      "text/plain": [
       "'New York, United States'"
      ]
     },
     "execution_count": 21,
     "metadata": {},
     "output_type": "execute_result"
    }
   ],
   "source": [
    "first_result.find('small').text"
   ]
  },
  {
   "cell_type": "code",
   "execution_count": 22,
   "metadata": {},
   "outputs": [
    {
     "data": {
      "text/plain": [
       "[<strong>$25,000</strong>,\n",
       " <strong>$10,000</strong>,\n",
       " <strong>NA</strong>,\n",
       " <strong>NA</strong>,\n",
       " <strong>$13,000</strong>,\n",
       " <strong>$7,800</strong>,\n",
       " <strong>NA</strong>,\n",
       " <strong>NA</strong>,\n",
       " <strong>$24,000</strong>,\n",
       " <strong>$9,500</strong>,\n",
       " <strong><i class=\"fa fa-money fa-lg\"></i> <i class=\"fa fa-money fa-lg\" style=\"color: #CCC;\"></i> <i class=\"fa fa-money fa-lg\" style=\"color: #CCC;\"></i> </strong>,\n",
       " <strong><i class=\"fa fa-usd fa-lg\"></i> <i class=\"fa fa-usd fa-lg\"></i> <i class=\"fa fa-usd fa-lg\"></i> <i class=\"fa fa-usd fa-lg\" style=\"color: #CCC;\"></i> <i class=\"fa fa-usd fa-lg\" style=\"color: #CCC;\"></i> </strong>,\n",
       " <strong>$22,000</strong>,\n",
       " <strong>$9,400</strong>,\n",
       " <strong><i class=\"fa fa-money fa-lg\"></i> <i class=\"fa fa-money fa-lg\" style=\"color: #CCC;\"></i> <i class=\"fa fa-money fa-lg\" style=\"color: #CCC;\"></i> </strong>,\n",
       " <strong><i class=\"fa fa-usd fa-lg\"></i> <i class=\"fa fa-usd fa-lg\"></i> <i class=\"fa fa-usd fa-lg\"></i> <i class=\"fa fa-usd fa-lg\"></i> <i class=\"fa fa-usd fa-lg\" style=\"color: #CCC;\"></i> </strong>,\n",
       " <strong>$32,000</strong>,\n",
       " <strong>$9,900</strong>,\n",
       " <strong>NA</strong>,\n",
       " <strong>NA</strong>]"
      ]
     },
     "execution_count": 22,
     "metadata": {},
     "output_type": "execute_result"
    }
   ],
   "source": [
    "first_result.find_all('strong')"
   ]
  },
  {
   "cell_type": "code",
   "execution_count": 23,
   "metadata": {},
   "outputs": [
    {
     "data": {
      "text/plain": [
       "'$25,000'"
      ]
     },
     "execution_count": 23,
     "metadata": {},
     "output_type": "execute_result"
    }
   ],
   "source": [
    "first_result.find('strong').text"
   ]
  },
  {
   "cell_type": "code",
   "execution_count": 32,
   "metadata": {
    "collapsed": true
   },
   "outputs": [],
   "source": [
    "r=requests.get(\"https://www.scu.edu/business/ms-information-systems/curriculum/\")"
   ]
  },
  {
   "cell_type": "code",
   "execution_count": 33,
   "metadata": {
    "collapsed": true
   },
   "outputs": [],
   "source": [
    "soup=BeautifulSoup(r.content,'html.parser')"
   ]
  },
  {
   "cell_type": "code",
   "execution_count": 35,
   "metadata": {},
   "outputs": [
    {
     "name": "stdout",
     "output_type": "stream",
     "text": [
      "MSIS 2601 Object Oriented Analysis and Programming (3 units)\n",
      "MSIS 2602 Information Systems Analysis and Design (3 units)\n",
      "MSIS 2603 Database Management Systems (3 units)\n",
      "MSIS 2604 Information Systems Policy and Strategy (3 units)\n",
      "MSIS 2605 Telecommunications and Business Networks (3 units)\n",
      "MSIS 2606 Software Project Management (3 units)\n",
      "MSIS course descriptions here »   \n",
      "ACTG 2301 Financial and Managerial Accounting (3 units)\n",
      "OMIS 2355 Computer-Based Decision Models (3 units)\n",
      "MGMT 2501 Building and Leading High-Performance Teams and Organizations (3 units)\n",
      "MSIS course descriptions here »   \n"
     ]
    }
   ],
   "source": [
    "import csv\n",
    "results=[]\n",
    "for d in soup.find_all('td'):\n",
    "    print(d.get_text())\n",
    "    results.append(d.get_text())\n",
    "    \n",
    "csv_file=open('C:/Users/Sanjana Thakur/Desktop/MSIS/Dashboards/Lab4.csv','w')\n",
    "wr=csv.writer(csv_file)\n",
    "for row in results:\n",
    "    wr.writerow(row)"
   ]
  },
  {
   "cell_type": "code",
   "execution_count": null,
   "metadata": {
    "collapsed": true
   },
   "outputs": [],
   "source": []
  }
 ],
 "metadata": {
  "kernelspec": {
   "display_name": "Python 3",
   "language": "python",
   "name": "python3"
  },
  "language_info": {
   "codemirror_mode": {
    "name": "ipython",
    "version": 3
   },
   "file_extension": ".py",
   "mimetype": "text/x-python",
   "name": "python",
   "nbconvert_exporter": "python",
   "pygments_lexer": "ipython3",
   "version": "3.6.1"
  }
 },
 "nbformat": 4,
 "nbformat_minor": 2
}
